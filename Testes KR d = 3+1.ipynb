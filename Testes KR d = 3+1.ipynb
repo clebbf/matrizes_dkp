{
 "cells": [
  {
   "cell_type": "code",
   "execution_count": 32,
   "id": "7f6dbc98-d079-4cff-bf0b-f36349e77f45",
   "metadata": {},
   "outputs": [
    {
     "name": "stdout",
     "output_type": "stream",
     "text": [
      "000 Verdadeiro\n",
      "001 Verdadeiro\n",
      "002 Verdadeiro\n",
      "003 Verdadeiro\n",
      "010 Verdadeiro\n",
      "011 Verdadeiro\n",
      "012 Verdadeiro\n",
      "013 Verdadeiro\n",
      "020 Verdadeiro\n",
      "021 Verdadeiro\n",
      "022 Verdadeiro\n",
      "023 Verdadeiro\n",
      "030 Verdadeiro\n",
      "031 Verdadeiro\n",
      "032 Verdadeiro\n",
      "033 Verdadeiro\n",
      "100 Verdadeiro\n",
      "101 Verdadeiro\n",
      "102 Verdadeiro\n",
      "103 Verdadeiro\n",
      "110 Verdadeiro\n",
      "111 Verdadeiro\n",
      "112 Verdadeiro\n",
      "113 Verdadeiro\n",
      "120 Verdadeiro\n",
      "121 Verdadeiro\n",
      "122 Verdadeiro\n",
      "123 Verdadeiro\n",
      "130 Verdadeiro\n",
      "131 Verdadeiro\n",
      "132 Verdadeiro\n",
      "133 Verdadeiro\n",
      "200 Verdadeiro\n",
      "201 Verdadeiro\n",
      "202 Verdadeiro\n",
      "203 Verdadeiro\n",
      "210 Verdadeiro\n",
      "211 Verdadeiro\n",
      "212 Verdadeiro\n",
      "213 Verdadeiro\n",
      "220 Verdadeiro\n",
      "221 Verdadeiro\n",
      "222 Verdadeiro\n",
      "223 Verdadeiro\n",
      "230 Verdadeiro\n",
      "231 Verdadeiro\n",
      "232 Verdadeiro\n",
      "233 Verdadeiro\n",
      "300 Verdadeiro\n",
      "301 Verdadeiro\n",
      "302 Verdadeiro\n",
      "303 Verdadeiro\n",
      "310 Verdadeiro\n",
      "311 Verdadeiro\n",
      "312 Verdadeiro\n",
      "313 Verdadeiro\n",
      "320 Verdadeiro\n",
      "321 Verdadeiro\n",
      "322 Verdadeiro\n",
      "323 Verdadeiro\n",
      "330 Verdadeiro\n",
      "331 Verdadeiro\n",
      "332 Verdadeiro\n",
      "333 Verdadeiro\n"
     ]
    }
   ],
   "source": [
    "import sympy as sp\n",
    "\n",
    "beta0 = sp.SparseMatrix(10, 10, {(0, 7): -1, (1, 8): -1, (2, 9): -1, (7, 0): -1, (8, 1): -1, (9, 2): -1}) # Descobrir se é positivo ou negativo\n",
    "beta1 = sp.SparseMatrix(10, 10, {(0, 5): 1, (1, 6): 1, (3, 9): 1, (5, 0): -1, (6, 1): -1, (9, 3):-1})\n",
    "beta2 = sp.SparseMatrix(10, 10, {(0, 4): -1, (2, 6): 1, (3, 8): -1, (4, 0): 1, (6, 2): -1, (8, 3): 1})\n",
    "beta3 = sp.SparseMatrix(10, 10, {(1, 4):-1, (2,5): -1, (3,7): 1, (4,1): 1, (5,2): 1, (7,3):-1})\n",
    "\n",
    "beta = []\n",
    "beta.append(beta0)\n",
    "beta.append(beta1)\n",
    "beta.append(beta2)\n",
    "beta.append(beta3)\n",
    "\n",
    "g = sp.Matrix([[1, 0, 0, 0],\n",
    "               [0, -1, 0, 0],\n",
    "               [0, 0, -1, 0],\n",
    "               [0, 0, 0, -1]])\n",
    "\n",
    "for u in range(0, 4):\n",
    "    for v in range(0, 4):\n",
    "        for p in range(0, 4):\n",
    "            if beta[u]*beta[v]*beta[p] + beta[p]*beta[v]*beta[u] == beta[u]*g[v, p] + beta[p]*g[v, u]:\n",
    "                print(str(u) + str(v) + str(p)+' Verdadeiro')\n",
    "            else:\n",
    "                print(str(u) + str(v) + str(p)+' Falso')\n",
    "                "
   ]
  },
  {
   "cell_type": "code",
   "execution_count": 31,
   "id": "df4c3d8b-fb23-44da-bb8d-8cb1203bef1e",
   "metadata": {},
   "outputs": [
    {
     "data": {
      "text/latex": [
       "$\\displaystyle \\left[\\begin{matrix}0 & 0 & 0 & 0 & 0 & 0 & 0 & 1 & 0 & 0\\\\0 & 0 & 0 & 0 & 0 & 0 & 0 & 0 & 1 & 0\\\\0 & 0 & 0 & 0 & 0 & 0 & 0 & 0 & 0 & 1\\\\0 & 0 & 0 & 0 & 0 & 0 & 0 & 0 & 0 & 0\\\\0 & 0 & 0 & 0 & 0 & 0 & 0 & 0 & 0 & 0\\\\0 & 0 & 0 & 0 & 0 & 0 & 0 & 0 & 0 & 0\\\\0 & 0 & 0 & 0 & 0 & 0 & 0 & 0 & 0 & 0\\\\1 & 0 & 0 & 0 & 0 & 0 & 0 & 0 & 0 & 0\\\\0 & 1 & 0 & 0 & 0 & 0 & 0 & 0 & 0 & 0\\\\0 & 0 & 1 & 0 & 0 & 0 & 0 & 0 & 0 & 0\\end{matrix}\\right]$"
      ],
      "text/plain": [
       "Matrix([\n",
       "[0, 0, 0, 0, 0, 0, 0, 1, 0, 0],\n",
       "[0, 0, 0, 0, 0, 0, 0, 0, 1, 0],\n",
       "[0, 0, 0, 0, 0, 0, 0, 0, 0, 1],\n",
       "[0, 0, 0, 0, 0, 0, 0, 0, 0, 0],\n",
       "[0, 0, 0, 0, 0, 0, 0, 0, 0, 0],\n",
       "[0, 0, 0, 0, 0, 0, 0, 0, 0, 0],\n",
       "[0, 0, 0, 0, 0, 0, 0, 0, 0, 0],\n",
       "[1, 0, 0, 0, 0, 0, 0, 0, 0, 0],\n",
       "[0, 1, 0, 0, 0, 0, 0, 0, 0, 0],\n",
       "[0, 0, 1, 0, 0, 0, 0, 0, 0, 0]])"
      ]
     },
     "execution_count": 31,
     "metadata": {},
     "output_type": "execute_result"
    }
   ],
   "source": [
    "beta[0]"
   ]
  },
  {
   "cell_type": "code",
   "execution_count": null,
   "id": "747c80a9-6026-40a9-bbe9-ff087216d017",
   "metadata": {},
   "outputs": [],
   "source": []
  }
 ],
 "metadata": {
  "kernelspec": {
   "display_name": "Python 3 (ipykernel)",
   "language": "python",
   "name": "python3"
  },
  "language_info": {
   "codemirror_mode": {
    "name": "ipython",
    "version": 3
   },
   "file_extension": ".py",
   "mimetype": "text/x-python",
   "name": "python",
   "nbconvert_exporter": "python",
   "pygments_lexer": "ipython3",
   "version": "3.12.6"
  }
 },
 "nbformat": 4,
 "nbformat_minor": 5
}
