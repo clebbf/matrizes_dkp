{
 "cells": [
  {
   "cell_type": "code",
   "execution_count": 2,
   "id": "91896e31-284f-41c9-8bf5-5204c2390fc3",
   "metadata": {},
   "outputs": [],
   "source": [
    "from sympy import *\n",
    "from sympy.physics.quantum import TensorProduct\n",
    "import pickle\n",
    "init_printing(use_unicode=True)\n",
    "\n",
    "with open('matrizes_fixed.pkl', 'rb') as arquivo:\n",
    "    matrizes_fixed = pickle.load(arquivo)\n",
    "\n",
    "with open('vectorialBeta.pkl', 'rb') as arquivo:\n",
    "    vectorialBeta = pickle.load(arquivo)"
   ]
  },
  {
   "cell_type": "markdown",
   "id": "72027572-9c64-48e5-90d0-f65e910c966a",
   "metadata": {},
   "source": [
    "# Matrizes $\\beta^{\\mu}$ para o caso d = 5 + 1"
   ]
  },
  {
   "cell_type": "markdown",
   "id": "015c593d-c30c-4942-a51e-fcfc0af4b5fb",
   "metadata": {},
   "source": [
    "## Caso escalar "
   ]
  },
  {
   "cell_type": "code",
   "execution_count": 40,
   "id": "e8c5c922-e9d2-49e6-953a-736df1c35a3f",
   "metadata": {},
   "outputs": [],
   "source": [
    "scalarBeta0 = SparseMatrix(7,7, {(0, 6): 1, (6,0): 1})\n",
    "scalarBeta1 = SparseMatrix(7,7, {(1, 6): 1, (6,1): -1})\n",
    "scalarBeta2 = SparseMatrix(7,7, {(2, 6): 1, (6,2): -1})\n",
    "scalarBeta3 = SparseMatrix(7,7, {(3, 6): 1, (6,3): -1})\n",
    "scalarBeta4 = SparseMatrix(7,7, {(4, 6): 1, (6,4): -1})\n",
    "scalarBeta5 = SparseMatrix(7,7, {(5, 6): 1, (6,5): -1})"
   ]
  },
  {
   "cell_type": "markdown",
   "id": "e82a473f-ca38-46ae-a9c4-35114a351cf1",
   "metadata": {},
   "source": [
    "## Caso vetorial"
   ]
  },
  {
   "cell_type": "code",
   "execution_count": 3,
   "id": "8b4de97e-84eb-41c0-b6fd-1d19383c9813",
   "metadata": {},
   "outputs": [],
   "source": [
    "vectorialBeta = vectorialBeta['vectorialBeta']"
   ]
  },
  {
   "cell_type": "markdown",
   "id": "ea5eb631-9ce6-4d59-9cbe-ec1fe30bb236",
   "metadata": {},
   "source": [
    "## Caso desconhecido"
   ]
  },
  {
   "cell_type": "code",
   "execution_count": 9,
   "id": "d466c678-e17c-4463-bf5b-244b91c97204",
   "metadata": {},
   "outputs": [],
   "source": [
    "matrizDesconhecida0 = Matrix(35, 35, lambda i, j: Symbol(f'B_{i},{j}'))\n",
    "matrizDesconhecida1 = Matrix(35, 35, lambda i, j: Symbol(f'C_{i},{j}'))\n",
    "matrizDesconhecida2 = Matrix(35, 35, lambda i, j: Symbol(f'D_{i},{j}'))\n",
    "matrizDesconhecida3 = Matrix(35, 35, lambda i, j: Symbol(f'E_{i},{j}'))\n",
    "matrizDesconhecida4 = Matrix(35, 35, lambda i, j: Symbol(f'F_{i},{j}'))\n",
    "matrizDesconhecida5 = Matrix(35, 35, lambda i, j: Symbol(f'G_{i},{j}'))"
   ]
  },
  {
   "cell_type": "markdown",
   "id": "90a0486b-13fa-453e-8539-e67671a48b18",
   "metadata": {},
   "source": [
    "# Definição das matrizes $\\gamma^{\\mu}$ e $\\beta^{\\mu}$"
   ]
  },
  {
   "cell_type": "code",
   "execution_count": 10,
   "id": "704b33b7-05b5-4aa7-b2b5-9752dd9560d4",
   "metadata": {
    "scrolled": true
   },
   "outputs": [],
   "source": [
    "Id_8 = diag(1,1,1,1,1,1,1,1)\n",
    "Id_4 = diag(1,1,1,1)\n",
    "\n",
    "fourGamma0 = Matrix([[1, 0, 0, 0],\n",
    "                    [0, 1, 0, 0],\n",
    "                    [0, 0, -1, 0],\n",
    "                    [0, 0, 0, -1]])\n",
    "\n",
    "fourGamma1 = Matrix([[0, 0, 0, 1],\n",
    "                    [0, 0, 1, 0],\n",
    "                    [0, -1, 0, 0],\n",
    "                    [-1, 0, 0, 0]])\n",
    "\n",
    "fourGamma2 = Matrix([[0, 0, 0, -I],\n",
    "                    [0, 0, I, 0],\n",
    "                    [0, I, 0, 0],\n",
    "                    [-I, 0, 0, 0]])\n",
    "\n",
    "fourGamma3 = Matrix([[0, 0, 1, 0],\n",
    "                    [0, 0, 0, -1],\n",
    "                    [-1, 0, 0, 0],\n",
    "                    [0, 1, 0, 0]])\n",
    "\n",
    "pauli_1 = Matrix([[0, 1],\n",
    "                  [1, 0]]) \n",
    "\n",
    "pauli_2 = Matrix([[0, -I],\n",
    "                  [I, 0]]) \n",
    "\n",
    "pauli_3 = Matrix([[1, 0],\n",
    "                  [0, -1]]) "
   ]
  },
  {
   "cell_type": "code",
   "execution_count": 11,
   "id": "66e1448a-d707-454e-a0d8-ebb69fd9462f",
   "metadata": {},
   "outputs": [],
   "source": [
    "# Eu utilizei a lógica da página da Wikipédia para realizar os cálculos das matrizes gama em maiores dimensões.\n",
    "# https://en.wikipedia.org/wiki/Higher-dimensional_gamma_matrices\n",
    "\n",
    "gamma_0 = TensorProduct(fourGamma0, pauli_3) \n",
    "gamma_1 = TensorProduct(fourGamma1, pauli_3) \n",
    "gamma_2 = TensorProduct(fourGamma2, pauli_3) \n",
    "gamma_3 = TensorProduct(fourGamma3, pauli_3) \n",
    "gamma_4 = TensorProduct(Id_4, I*pauli_1)\n",
    "gamma_5 = TensorProduct(Id_4, I*pauli_2)"
   ]
  },
  {
   "cell_type": "markdown",
   "id": "0e31c67c-b38c-4220-9a0a-4770fc6e1f12",
   "metadata": {},
   "source": [
    "# Criação das matrizes $\\alpha^{\\mu}$"
   ]
  },
  {
   "cell_type": "code",
   "execution_count": 12,
   "id": "207742be-06e9-42ab-bd96-9fb7e0498691",
   "metadata": {},
   "outputs": [],
   "source": [
    "gamma = [gamma_0, gamma_1, gamma_2, gamma_3, gamma_4, gamma_5]\n",
    "alfa = []\n",
    "for i in range(6):\n",
    "    alfa.append(1/2*(TensorProduct(gamma[i], Id_8) + TensorProduct(Id_8, gamma[i])))"
   ]
  },
  {
   "cell_type": "markdown",
   "id": "3c966288-45f8-47a7-a0bd-362efbcd2a05",
   "metadata": {},
   "source": [
    "# Criação das matrizes $B^{\\mu}$"
   ]
  },
  {
   "cell_type": "code",
   "execution_count": 42,
   "id": "dcb49dc9-f417-45fd-b767-b2b0e010ed75",
   "metadata": {},
   "outputs": [],
   "source": [
    "Beta0 = BlockMatrix([[zeros(1,1), zeros(1,7), zeros(1, 21), zeros(1,35)],\n",
    "                    [zeros(7,1), scalarBeta0, zeros(7, 21), zeros(7, 35)],\n",
    "                    [zeros(21,1), zeros(21,7), vectorialBeta[0], zeros(21, 35)],\n",
    "                    [zeros(35, 1), zeros(35, 7), zeros(35, 21), matrizDesconhecida0]])\n",
    "\n",
    "Beta1 = BlockMatrix([[zeros(1,1), zeros(1,7), zeros(1, 21), zeros(1,35)],\n",
    "                    [zeros(7,1), scalarBeta1, zeros(7, 21), zeros(7, 35)],\n",
    "                    [zeros(21,1), zeros(21,7), vectorialBeta[1], zeros(21, 35)],\n",
    "                    [zeros(35, 1), zeros(35, 7), zeros(35, 21), matrizDesconhecida1]])\n",
    "\n",
    "Beta2 = BlockMatrix([[zeros(1,1), zeros(1,7), zeros(1, 21), zeros(1,35)],\n",
    "                    [zeros(7,1), scalarBeta2, zeros(7, 21), zeros(7, 35)],\n",
    "                    [zeros(21,1), zeros(21,7), vectorialBeta[2], zeros(21, 35)],\n",
    "                    [zeros(35, 1), zeros(35, 7), zeros(35, 21), matrizDesconhecida2]])\n",
    "\n",
    "Beta3 = BlockMatrix([[zeros(1,1), zeros(1,7), zeros(1, 21), zeros(1,35)],\n",
    "                    [zeros(7,1), scalarBeta3, zeros(7, 21), zeros(7, 35)],\n",
    "                    [zeros(21,1), zeros(21,7), vectorialBeta[3], zeros(21, 35)],\n",
    "                    [zeros(35, 1), zeros(35, 7), zeros(35, 21), matrizDesconhecida3]])\n",
    "\n",
    "Beta4 = BlockMatrix([[zeros(1,1), zeros(1,7), zeros(1, 21), zeros(1,35)],\n",
    "                    [zeros(7,1), scalarBeta4, zeros(7, 21), zeros(7, 35)],\n",
    "                    [zeros(21,1), zeros(21,7), vectorialBeta[4], zeros(21, 35)],\n",
    "                    [zeros(35, 1), zeros(35, 7), zeros(35, 21), matrizDesconhecida4]])\n",
    "\n",
    "Beta5 = BlockMatrix([[zeros(1,1), zeros(1,7), zeros(1, 21), zeros(1,35)],\n",
    "                    [zeros(7,1), scalarBeta5, zeros(7, 21), zeros(7, 35)],\n",
    "                    [zeros(21,1), zeros(21,7), vectorialBeta[5], zeros(21, 35)],\n",
    "                    [zeros(35, 1), zeros(35, 7), zeros(35, 21), matrizDesconhecida5]])\n",
    "\n",
    "Beta0 = Matrix(Beta0)\n",
    "Beta1 = Matrix(Beta1)\n",
    "Beta2 = Matrix(Beta2)\n",
    "Beta3 = Matrix(Beta3)\n",
    "Beta4 = Matrix(Beta4)\n",
    "Beta5 = Matrix(Beta5)"
   ]
  },
  {
   "cell_type": "markdown",
   "id": "f87e32a7-0cb0-40f6-b851-8a8edbb44261",
   "metadata": {},
   "source": [
    "# Criação da Matriz de Similaridade"
   ]
  },
  {
   "cell_type": "code",
   "execution_count": 26,
   "id": "546be9d2-6bcf-4933-a602-d8be063b888e",
   "metadata": {},
   "outputs": [],
   "source": [
    "# similarity = Matrix(64, 64, lambda i, j: Symbol(f'S_{i},{j}'))\n",
    "similarity_fixed_1 = matrizes_fixed['similarity_fixed_1'] #Utilizar esse aqui"
   ]
  },
  {
   "cell_type": "markdown",
   "id": "43567382-640e-4231-970d-cc943d76ff76",
   "metadata": {},
   "source": [
    "# Cálculos"
   ]
  },
  {
   "cell_type": "markdown",
   "id": "451a13e0-ca4a-47d0-8f1f-2a45b02b517a",
   "metadata": {},
   "source": [
    "## Definição da matriz $S\\alpha^0$ e da função de calcular os blocos "
   ]
  },
  {
   "cell_type": "code",
   "execution_count": 27,
   "id": "113eb73a-d7f8-4cf5-bd17-5888893132b5",
   "metadata": {},
   "outputs": [],
   "source": [
    "matriz_SA0 = similarity_fixed_1*alfa[0]\n",
    "matriz_SA1 = similarity_fixed_1*alfa[1]\n",
    "matriz_SA2 = similarity_fixed_1*alfa[2]\n",
    "matriz_SA3 = similarity_fixed_1*alfa[3]\n",
    "matriz_SA4 = similarity_fixed_1*alfa[4]\n",
    "matriz_SA5 = similarity_fixed_1*alfa[5]"
   ]
  },
  {
   "cell_type": "code",
   "execution_count": 28,
   "id": "591c1521-0c49-4247-9a24-29b1e61c64c8",
   "metadata": {},
   "outputs": [],
   "source": [
    "def calcular_bloco(B, S, i_start, j_start, m, n, tamanho_matriz):\n",
    "    \"\"\"\n",
    "    Calcula um bloco de tamanho m x n da matriz resultado = B * S.\n",
    "    \n",
    "    Parâmetros:\n",
    "        B: Matriz B (IndexedBase).\n",
    "        S: Matriz S (IndexedBase).\n",
    "        i_start: Índice inicial da linha.\n",
    "        j_start: Índice inicial da coluna.\n",
    "        m: Número de linhas no bloco.\n",
    "        n: Número de colunas no bloco.\n",
    "        tamanho_matriz: Tamanho das matrizes B e S (n x n).\n",
    "    \n",
    "    Retorna:\n",
    "        Uma matriz m x n com o bloco calculado.\n",
    "    \"\"\"\n",
    "    # Criando uma matriz m x n para armazenar o bloco\n",
    "    bloco = Matrix(m, n, lambda i, j: 0)\n",
    "    k = symbols('k', integer=True)    \n",
    "    # Calculando cada elemento do bloco\n",
    "    for i_bloco in range(m):\n",
    "        for j_bloco in range(n):\n",
    "            # Índices globais na matriz resultado\n",
    "            i_global = i_start + i_bloco\n",
    "            j_global = j_start + j_bloco\n",
    "            \n",
    "            # Calculando o elemento (i_global, j_global)\n",
    "            elemento = Sum(B[i_global, k] * S[k, j_global], (k, 0, tamanho_matriz-1)).doit()\n",
    "            bloco[i_bloco, j_bloco] = elemento\n",
    "    \n",
    "    return bloco"
   ]
  },
  {
   "cell_type": "markdown",
   "id": "e6b7cc5c-714b-46f9-ab4e-898a2b1c0d4a",
   "metadata": {},
   "source": [
    "## Caso $\\mu = 0$"
   ]
  },
  {
   "cell_type": "markdown",
   "id": "0306eec5-31bd-43c6-8ff1-6d9a6a5b1493",
   "metadata": {},
   "source": [
    "### Cálculo do bloco 1"
   ]
  },
  {
   "cell_type": "code",
   "execution_count": 43,
   "id": "384e17e3-0732-41e8-87f3-4e1c41c9be47",
   "metadata": {},
   "outputs": [
    {
     "ename": "NameError",
     "evalue": "name 'bloco1_matrizBS_0' is not defined",
     "output_type": "error",
     "traceback": [
      "\u001b[1;31m---------------------------------------------------------------------------\u001b[0m",
      "\u001b[1;31mNameError\u001b[0m                                 Traceback (most recent call last)",
      "Cell \u001b[1;32mIn[43], line 12\u001b[0m\n\u001b[0;32m     10\u001b[0m \u001b[38;5;66;03m# Salva o bloco em um arquivo .png\u001b[39;00m\n\u001b[0;32m     11\u001b[0m \u001b[38;5;28;01mwith\u001b[39;00m \u001b[38;5;28mopen\u001b[39m(\u001b[38;5;124m'\u001b[39m\u001b[38;5;124mbloco1_matrizBS_0.png\u001b[39m\u001b[38;5;124m'\u001b[39m, \u001b[38;5;124m'\u001b[39m\u001b[38;5;124mwb\u001b[39m\u001b[38;5;124m'\u001b[39m) \u001b[38;5;28;01mas\u001b[39;00m outputfile:\n\u001b[1;32m---> 12\u001b[0m     preview(\u001b[43mbloco1_matrizBS_0\u001b[49m, viewer\u001b[38;5;241m=\u001b[39m\u001b[38;5;124m'\u001b[39m\u001b[38;5;124mBytesIO\u001b[39m\u001b[38;5;124m'\u001b[39m, outputbuffer\u001b[38;5;241m=\u001b[39moutputfile)\n",
      "\u001b[1;31mNameError\u001b[0m: name 'bloco1_matrizBS_0' is not defined"
     ]
    }
   ],
   "source": [
    "# Definindo o bloco de interesse\n",
    "i_start = 0  # Linha inicial\n",
    "j_start = 0  # Coluna inicial\n",
    "m = 29        # Número de linhas no bloco\n",
    "n = 29        # Número de colunas no bloco\n",
    "\n",
    "# Calculando o bloco\n",
    "bloco1_matrizBS = calcular_bloco(Beta0, similarity_fixed_1, i_start, j_start, m, n, 64)\n",
    "\n",
    "# Salva o bloco em um arquivo .png\n",
    "with open('bloco1_matrizBS_0.png', 'wb') as outputfile:\n",
    "    preview(bloco1_matrizBS_0, viewer='BytesIO', outputbuffer=outputfile)"
   ]
  },
  {
   "cell_type": "markdown",
   "id": "f34d43fe-fea3-4b17-9f7f-ab3051bde13f",
   "metadata": {},
   "source": [
    "### Cálculo do bloco 2"
   ]
  },
  {
   "cell_type": "code",
   "execution_count": 117,
   "id": "7a96b99e-49b3-4128-8c54-a021ae49650b",
   "metadata": {},
   "outputs": [],
   "source": [
    "# Definindo o bloco de interesse\n",
    "i_start = 0  # Linha inicial\n",
    "j_start = 29  # Coluna inicial\n",
    "m = 29        # Número de linhas no bloco\n",
    "n = 35        # Número de colunas no bloco\n",
    "\n",
    "# Calculando o bloco\n",
    "bloco2_matrizBS = calcular_bloco(Beta0, similarity_fixed_1, i_start, j_start, m, n, 64)\n",
    "\n",
    "# Salva o bloco em um arquivo .png\n",
    "with open('bloco1_matrizBS_0.png', 'wb') as outputfile:\n",
    "    preview(bloco1_matrizBS_0, viewer='BytesIO', outputbuffer=outputfile)"
   ]
  },
  {
   "cell_type": "markdown",
   "id": "e14aca82-3e35-49d3-98fa-660586b74d9a",
   "metadata": {},
   "source": [
    "## Caso $\\mu = 1$"
   ]
  },
  {
   "cell_type": "markdown",
   "id": "9d0593d2-593e-4afd-967d-fe32372b59a7",
   "metadata": {},
   "source": [
    "### Cálculo do bloco 1"
   ]
  },
  {
   "cell_type": "code",
   "execution_count": 23,
   "id": "ee81c6a5-55e9-4876-9825-2d8393a98ed5",
   "metadata": {},
   "outputs": [],
   "source": [
    "# Definindo o bloco de interesse\n",
    "i_start = 0  # Linha inicial\n",
    "j_start = 0  # Coluna inicial\n",
    "m = 29        # Número de linhas no bloco\n",
    "n = 29        # Número de colunas no bloco\n",
    "\n",
    "# Calculando o bloco\n",
    "bloco1_matrizBS_1 = calcular_bloco(Beta1, similarity_fixed_1, i_start, j_start, m, n, 64)\n",
    "\n",
    "# Salva o bloco em um arquivo .png\n",
    "with open('bloco1_matrizBS_1.png', 'wb') as outputfile:\n",
    "    preview(bloco1_matrizBS_1, viewer='BytesIO', outputbuffer=outputfile)"
   ]
  },
  {
   "cell_type": "markdown",
   "id": "fe975fe0-5bc4-469f-be11-6eeeed95e9a9",
   "metadata": {},
   "source": [
    "### Cálculo do bloco 2"
   ]
  },
  {
   "cell_type": "code",
   "execution_count": 24,
   "id": "abc31f56-5bd3-428e-909f-ca2aeea0a41e",
   "metadata": {},
   "outputs": [],
   "source": [
    "# Definindo o bloco de interesse\n",
    "i_start = 0  # Linha inicial\n",
    "j_start = 29  # Coluna inicial\n",
    "m = 29        # Número de linhas no bloco\n",
    "n = 35        # Número de colunas no bloco\n",
    "\n",
    "# Calculando o bloco\n",
    "bloco2_matrizBS_1 = calcular_bloco(Beta1, similarity_fixed_1, i_start, j_start, m, n, 64)\n",
    "\n",
    "# Salva o bloco em um arquivo .png\n",
    "with open('bloco2_matrizBS_1.png', 'wb') as outputfile:\n",
    "    preview(bloco2_matrizBS_1, viewer='BytesIO', outputbuffer=outputfile)"
   ]
  },
  {
   "cell_type": "markdown",
   "id": "9bb888a7-7373-4743-8add-b7ad13193997",
   "metadata": {},
   "source": [
    "## Caso $\\mu = 2$"
   ]
  },
  {
   "cell_type": "markdown",
   "id": "c4cadf61-9c61-4cbb-ae7e-1b08b3e5a7a9",
   "metadata": {},
   "source": [
    "### Cálculo do bloco 1"
   ]
  },
  {
   "cell_type": "code",
   "execution_count": 25,
   "id": "af119c0a-be5e-4801-bfbd-f3ef1909a3bc",
   "metadata": {},
   "outputs": [],
   "source": [
    "# Definindo o bloco de interesse\n",
    "i_start = 0  # Linha inicial\n",
    "j_start = 0  # Coluna inicial\n",
    "m = 29        # Número de linhas no bloco\n",
    "n = 29        # Número de colunas no bloco\n",
    "\n",
    "# Calculando o bloco\n",
    "bloco1_matrizBS_2 = calcular_bloco(Beta2, similarity_fixed_1, i_start, j_start, m, n, 64)\n",
    "\n",
    "# Salva o bloco em um arquivo .png\n",
    "with open('bloco1_matrizBS_2.png', 'wb') as outputfile:\n",
    "    preview(bloco1_matrizBS_2, viewer='BytesIO', outputbuffer=outputfile)"
   ]
  },
  {
   "cell_type": "markdown",
   "id": "dc42e3bd-3052-4b54-87f7-d9f6fed6249b",
   "metadata": {},
   "source": [
    "### Cálculo do bloco 2"
   ]
  },
  {
   "cell_type": "code",
   "execution_count": 26,
   "id": "d7554838-c32c-47c2-8c05-1edfacad7b59",
   "metadata": {},
   "outputs": [],
   "source": [
    "# Definindo o bloco de interesse\n",
    "i_start = 0  # Linha inicial\n",
    "j_start = 29  # Coluna inicial\n",
    "m = 29        # Número de linhas no bloco\n",
    "n = 35        # Número de colunas no bloco\n",
    "\n",
    "# Calculando o bloco\n",
    "bloco2_matrizBS_2 = calcular_bloco(Beta2, similarity_fixed_1, i_start, j_start, m, n, 64)\n",
    "\n",
    "# Salva o bloco em um arquivo .png\n",
    "with open('bloco2_matrizBS_2.png', 'wb') as outputfile:\n",
    "    preview(bloco2_matrizBS_2, viewer='BytesIO', outputbuffer=outputfile)"
   ]
  },
  {
   "cell_type": "markdown",
   "id": "fca9cea1-3c51-4e26-b7ac-a3184e868658",
   "metadata": {},
   "source": [
    "## Caso $\\mu = 3$"
   ]
  },
  {
   "cell_type": "markdown",
   "id": "80315373-2ec7-4f05-93ec-7d6b87b67dd9",
   "metadata": {},
   "source": [
    "### Cálculo do bloco 1"
   ]
  },
  {
   "cell_type": "code",
   "execution_count": 27,
   "id": "c86036c6-0961-4dc2-be77-043e132d1e7b",
   "metadata": {},
   "outputs": [],
   "source": [
    "# Definindo o bloco de interesse\n",
    "i_start = 0  # Linha inicial\n",
    "j_start = 0  # Coluna inicial\n",
    "m = 29        # Número de linhas no bloco\n",
    "n = 29        # Número de colunas no bloco\n",
    "\n",
    "# Calculando o bloco\n",
    "bloco1_matrizBS_3 = calcular_bloco(Beta3, similarity_fixed_1, i_start, j_start, m, n, 64)\n",
    "\n",
    "# Salva o bloco em um arquivo .png\n",
    "with open('bloco1_matrizBS_3.png', 'wb') as outputfile:\n",
    "    preview(bloco1_matrizBS_3, viewer='BytesIO', outputbuffer=outputfile)"
   ]
  },
  {
   "cell_type": "markdown",
   "id": "a2a3344e-47a6-48d7-b6ee-b1855586522f",
   "metadata": {},
   "source": [
    "### Cálculo do bloco 2"
   ]
  },
  {
   "cell_type": "code",
   "execution_count": 28,
   "id": "486be34c-80f2-4ef5-954c-4b1411da78fd",
   "metadata": {},
   "outputs": [],
   "source": [
    "# Definindo o bloco de interesse\n",
    "i_start = 0  # Linha inicial\n",
    "j_start = 29  # Coluna inicial\n",
    "m = 29        # Número de linhas no bloco\n",
    "n = 35        # Número de colunas no bloco\n",
    "\n",
    "# Calculando o bloco\n",
    "bloco2_matrizBS_3 = calcular_bloco(Beta3, similarity_fixed_1, i_start, j_start, m, n, 64)\n",
    "\n",
    "# Salva o bloco em um arquivo .png\n",
    "with open('bloco2_matrizBS_3.png', 'wb') as outputfile:\n",
    "    preview(bloco2_matrizBS_3, viewer='BytesIO', outputbuffer=outputfile)"
   ]
  },
  {
   "cell_type": "markdown",
   "id": "0da6ac90-a6e8-43c2-9159-2d7859192e37",
   "metadata": {},
   "source": [
    "## Caso $\\mu = 4$"
   ]
  },
  {
   "cell_type": "markdown",
   "id": "500c1854-c4c6-4147-8931-3bb9a022dfea",
   "metadata": {},
   "source": [
    "### Cálculo do bloco 1"
   ]
  },
  {
   "cell_type": "code",
   "execution_count": 29,
   "id": "182f68cf-7850-46ea-ac6a-ea29d1dd69a7",
   "metadata": {},
   "outputs": [],
   "source": [
    "# Definindo o bloco de interesse\n",
    "i_start = 0  # Linha inicial\n",
    "j_start = 0  # Coluna inicial\n",
    "m = 29        # Número de linhas no bloco\n",
    "n = 29        # Número de colunas no bloco\n",
    "\n",
    "# Calculando o bloco\n",
    "bloco1_matrizBS_4 = calcular_bloco(Beta4, similarity_fixed_1, i_start, j_start, m, n, 64)\n",
    "\n",
    "# Salva o bloco em um arquivo .png\n",
    "with open('bloco1_matrizBS_4.png', 'wb') as outputfile:\n",
    "    preview(bloco1_matrizBS_4, viewer='BytesIO', outputbuffer=outputfile)"
   ]
  },
  {
   "cell_type": "markdown",
   "id": "7857da8e-ef68-4cb5-949f-83603b5f85ee",
   "metadata": {},
   "source": [
    "### Cálculo do bloco 2"
   ]
  },
  {
   "cell_type": "code",
   "execution_count": 30,
   "id": "9fbcf919-3401-4a2c-817b-67cc41701304",
   "metadata": {},
   "outputs": [],
   "source": [
    "# Definindo o bloco de interesse\n",
    "i_start = 0  # Linha inicial\n",
    "j_start = 29  # Coluna inicial\n",
    "m = 29        # Número de linhas no bloco\n",
    "n = 35        # Número de colunas no bloco\n",
    "\n",
    "# Calculando o bloco\n",
    "bloco2_matrizBS_4 = calcular_bloco(Beta4, similarity_fixed_1, i_start, j_start, m, n, 64)\n",
    "\n",
    "# Salva o bloco em um arquivo .png\n",
    "with open('bloco2_matrizBS_4.png', 'wb') as outputfile:\n",
    "    preview(bloco2_matrizBS_4, viewer='BytesIO', outputbuffer=outputfile)"
   ]
  },
  {
   "cell_type": "markdown",
   "id": "8f2941e8-b625-4a1c-a80f-f42fef9f7de5",
   "metadata": {},
   "source": [
    "## Caso $\\mu = 5$"
   ]
  },
  {
   "cell_type": "markdown",
   "id": "58b7a792-586e-453a-90e3-4bbd6016e92f",
   "metadata": {},
   "source": [
    "### Cálculo do bloco 1"
   ]
  },
  {
   "cell_type": "code",
   "execution_count": 31,
   "id": "eef80a0d-5c34-4822-b947-705607096172",
   "metadata": {},
   "outputs": [],
   "source": [
    "# Definindo o bloco de interesse\n",
    "i_start = 0  # Linha inicial\n",
    "j_start = 0  # Coluna inicial\n",
    "m = 29        # Número de linhas no bloco\n",
    "n = 29        # Número de colunas no bloco\n",
    "\n",
    "# Calculando o bloco\n",
    "bloco1_matrizBS_5 = calcular_bloco(Beta5, similarity_fixed_1, i_start, j_start, m, n, 64)\n",
    "\n",
    "# Salva o bloco em um arquivo .png\n",
    "with open('bloco1_matrizBS_5.png', 'wb') as outputfile:\n",
    "    preview(bloco1_matrizBS_5, viewer='BytesIO', outputbuffer=outputfile)"
   ]
  },
  {
   "cell_type": "markdown",
   "id": "c29daed8-129b-4807-afc2-715f21875050",
   "metadata": {},
   "source": [
    "### Cálculo do bloco 2"
   ]
  },
  {
   "cell_type": "code",
   "execution_count": 32,
   "id": "3e55ba3b-fca5-49ce-bad8-e335bc68187c",
   "metadata": {},
   "outputs": [],
   "source": [
    "# Definindo o bloco de interesse\n",
    "i_start = 0  # Linha inicial\n",
    "j_start = 29  # Coluna inicial\n",
    "m = 29        # Número de linhas no bloco\n",
    "n = 35        # Número de colunas no bloco\n",
    "\n",
    "# Calculando o bloco\n",
    "bloco2_matrizBS_5 = calcular_bloco(Beta5, similarity_fixed_1, i_start, j_start, m, n, 64)\n",
    "\n",
    "# Salva o bloco em um arquivo .png\n",
    "with open('bloco2_matrizBS_5.png', 'wb') as outputfile:\n",
    "    preview(bloco2_matrizBS_5, viewer='BytesIO', outputbuffer=outputfile)"
   ]
  },
  {
   "cell_type": "markdown",
   "id": "8e84518b-9805-4479-87ff-a6c7c70a6bbd",
   "metadata": {},
   "source": [
    "## Armazena as matrizes num arquivo .pck para uso futuro"
   ]
  },
  {
   "cell_type": "code",
   "execution_count": null,
   "id": "4a80b75f-77ca-411e-beb5-5c2e9718a7c9",
   "metadata": {},
   "outputs": [],
   "source": [
    "matrizes_SA_todas = {\n",
    "    matriz_SA0\n",
    "    matriz_SA1\n",
    "    matriz_SA2\n",
    "    matriz_SA3\n",
    "    matriz_SA4\n",
    "    matriz_SA5\n",
    "}"
   ]
  },
  {
   "cell_type": "code",
   "execution_count": 116,
   "id": "e6418ef9-7bab-4181-bacd-1a6188867a77",
   "metadata": {},
   "outputs": [],
   "source": [
    "# Define uma \"lista\" de blocos a serem salvos\n",
    "matrizes_BS = {\n",
    "\n",
    "}\n",
    "\n",
    "matrizes_SA = {\n",
    "\n",
    "}\n",
    "\n",
    "blocos_calculados = {\n",
    "\n",
    "}\n",
    "\n",
    "with open('blocos_calculados.pkl', 'wb') as arquivo:\n",
    "    pickle.dump(blocos_calculados, arquivo)\n",
    "\n",
    "with open('matrizes_BS.pkl', 'wb') as arquivo:\n",
    "    pickle.dump(matrizes_BS, arquivo)\n",
    "\n",
    "with open('matrizes_SA.pkl', 'wb') as arquivo:\n",
    "    pickle.dump(matrizes_SA, arquivo)"
   ]
  },
  {
   "cell_type": "markdown",
   "id": "2c4b7ea3-1e02-4173-811e-5f0fd32eb9ed",
   "metadata": {},
   "source": [
    "# Exibição"
   ]
  },
  {
   "cell_type": "code",
   "execution_count": 37,
   "id": "d5e3ec84-1831-4c6a-b2c1-7edd10188956",
   "metadata": {},
   "outputs": [],
   "source": [
    "matriz_SA0[:29,:64]\n",
    "with open('matrizAS_0.png', 'wb') as outputfile:\n",
    "    preview(matriz_SA0[:29, :64], viewer='BytesIO', outputbuffer=outputfile)"
   ]
  },
  {
   "cell_type": "code",
   "execution_count": null,
   "id": "85a065b7-172a-488d-9067-a1d4f12b2289",
   "metadata": {},
   "outputs": [],
   "source": []
  }
 ],
 "metadata": {
  "kernelspec": {
   "display_name": "Python 3 (ipykernel)",
   "language": "python",
   "name": "python3"
  },
  "language_info": {
   "codemirror_mode": {
    "name": "ipython",
    "version": 3
   },
   "file_extension": ".py",
   "mimetype": "text/x-python",
   "name": "python",
   "nbconvert_exporter": "python",
   "pygments_lexer": "ipython3",
   "version": "3.12.6"
  }
 },
 "nbformat": 4,
 "nbformat_minor": 5
}
