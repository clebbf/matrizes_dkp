{
 "cells": [
  {
   "cell_type": "code",
   "execution_count": 1,
   "id": "87b74ec8-5938-4939-8121-98f61ebed926",
   "metadata": {},
   "outputs": [],
   "source": [
    "from sympy import *\n",
    "import pickle\n",
    "init_printing(use_unicode=True)"
   ]
  },
  {
   "cell_type": "markdown",
   "id": "fad53b43-2526-45a3-b463-2660d1450801",
   "metadata": {},
   "source": [
    "# Campo Eletromagnético"
   ]
  },
  {
   "cell_type": "code",
   "execution_count": null,
   "id": "6212cead-44fa-4458-b997-e83bb9a5e7b1",
   "metadata": {},
   "outputs": [],
   "source": []
  }
 ],
 "metadata": {
  "kernelspec": {
   "display_name": "Python 3 (ipykernel)",
   "language": "python",
   "name": "python3"
  },
  "language_info": {
   "codemirror_mode": {
    "name": "ipython",
    "version": 3
   },
   "file_extension": ".py",
   "mimetype": "text/x-python",
   "name": "python",
   "nbconvert_exporter": "python",
   "pygments_lexer": "ipython3",
   "version": "3.12.6"
  }
 },
 "nbformat": 4,
 "nbformat_minor": 5
}
